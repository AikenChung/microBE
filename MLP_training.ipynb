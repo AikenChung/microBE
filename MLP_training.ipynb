{
  "nbformat": 4,
  "nbformat_minor": 0,
  "metadata": {
    "colab": {
      "name": "MLP_training.ipynb",
      "provenance": [],
      "collapsed_sections": [],
      "authorship_tag": "ABX9TyMDfWa+s5+Pc9wYfVJbVLIj",
      "include_colab_link": true
    },
    "kernelspec": {
      "name": "python3",
      "display_name": "Python 3"
    },
    "language_info": {
      "name": "python"
    },
    "accelerator": "GPU"
  },
  "cells": [
    {
      "cell_type": "markdown",
      "metadata": {
        "id": "view-in-github",
        "colab_type": "text"
      },
      "source": [
        "<a href=\"https://colab.research.google.com/github/AikenChung/microBE/blob/main/MLP_training.ipynb\" target=\"_parent\"><img src=\"https://colab.research.google.com/assets/colab-badge.svg\" alt=\"Open In Colab\"/></a>"
      ]
    },
    {
      "cell_type": "markdown",
      "metadata": {
        "id": "6_qfzek4c35N"
      },
      "source": [
        "Training process for MLP model\n",
        "\n",
        "**Team: microBE**\n",
        "\n",
        "@Ali, @Anthony, @Laura, @Aiken"
      ]
    },
    {
      "cell_type": "code",
      "metadata": {
        "colab": {
          "base_uri": "https://localhost:8080/"
        },
        "id": "VN6W9S3HcxLm",
        "outputId": "55bf2969-65d9-4a48-abd9-4d38fb066b07"
      },
      "source": [
        "colab = True\n",
        "from google.colab import drive\n",
        "drive.mount('/content/drive')\n",
        "\n",
        "from pydrive.auth import GoogleAuth \n",
        "from pydrive.drive import GoogleDrive\n",
        "from google.colab import auth\n",
        "from oauth2client.client import GoogleCredentials\n",
        "auth.authenticate_user()\n",
        "gauth = GoogleAuth()\n",
        "gauth.credentials = GoogleCredentials.get_application_default()\n",
        "drive = GoogleDrive(gauth)\n",
        "\n",
        "\n",
        "import os as os\n",
        "if not os.path.exists('/content/drive/My Drive/Colab Notebooks/data'):\n",
        "    os.makedirs('/content/drive/My Drive/Colab Notebooks/data')"
      ],
      "execution_count": null,
      "outputs": [
        {
          "output_type": "stream",
          "text": [
            "Drive already mounted at /content/drive; to attempt to forcibly remount, call drive.mount(\"/content/drive\", force_remount=True).\n"
          ],
          "name": "stdout"
        }
      ]
    },
    {
      "cell_type": "code",
      "metadata": {
        "id": "jyMKrXSzdJTp"
      },
      "source": [
        "\n",
        "import seaborn as sns; sns.set()\n",
        "import matplotlib.pyplot as plt\n",
        "\n",
        "import torch\n",
        "from torch.utils.data import Dataset, DataLoader\n",
        "from torch import nn, from_numpy, optim\n",
        "import numpy as np\n",
        "import pandas as pd\n",
        "\n",
        "#progess bar\n",
        "from tqdm import tqdm\n",
        "import time\n",
        "import easydict\n",
        "\n",
        "\n",
        "if not os.path.exists('/content/drive/My Drive/Colab Notebooks/data/MLP_trainedModels'):\n",
        "    os.makedirs('/content/drive/My Drive/Colab Notebooks/data/MLP_trainedModels')\n",
        "\n",
        "if not os.path.exists('/content/drive/My Drive/Colab Notebooks/data/MLP_trainedResults'):\n",
        "    os.makedirs('/content/drive/My Drive/Colab Notebooks/data/MLP_trainedResults')\n",
        "    \n",
        "modelFilePath = '/content/drive/My Drive/Colab Notebooks/data/MLP_trainedModels/'\n",
        "resultFilePath = '/content/drive/My Drive/Colab Notebooks/data/MLP_trainedResults/'"
      ],
      "execution_count": null,
      "outputs": []
    },
    {
      "cell_type": "code",
      "metadata": {
        "id": "co6HlPUXdNTf"
      },
      "source": [
        "#================================== Setting ==================================\n",
        "train_base_file = 'phyla_all_noNC_noCS_4050x1177_PMI_threshold_0_clr_plsda_85p.csv'\n",
        "#train_base_file_url = 'https://drive.google.com/file/d/1BxK876BrT1aT2xVUaHafwiqBNxYw5bBn/view?usp=sharing'\n",
        "train_data_prefix = 'phyla_all_noNC_noCS'\n",
        "train_data_surfix_BE_method = 'plsda_BE'\n",
        "\n",
        "args = easydict.EasyDict({\n",
        "        \"feature_Num\": 1177,        # Number of features (columns) in the input data\n",
        "        \"epochs\": 5000,             # Number of iterations to train Model for\n",
        "        \"hidden_dim\": 256,          # Size of each hidden layer in Discriminator\n",
        "        \"pre_output_layer_dim\": 64, # Size of each hidden layer in Discriminator\n",
        "        \"output_dim\": 1,            # Size of output layer\n",
        "        \"mlp_hidden_layers_num\": 1, # How many (middle or hidden) layers in Discriminator (ie. 'mlp':  w/o 1st & last; 'resnet's: num. resudual blocks)\n",
        "        \"batch_size\": 32,           # Batch size\n",
        "        \"learning_rate\": 0.001,     # Learning rate for the optimizer\n",
        "        \"beta1\": 0.5,               # 'beta1' for the optimizer\n",
        "        \"adapt_lr_iters\": 5,        # how often decrease the learning rate\n",
        "})\n",
        "\n",
        "\n",
        "fileNameToSave_base = ('MLP_'+ str(args.feature_Num) +'_'+ \n",
        "                               str(args.hidden_dim) + '_' + \n",
        "                               str(args.pre_output_layer_dim) + '_' +\n",
        "                               str(args.output_dim) + '_Adam_lr_'+\n",
        "                               str(args.learning_rate) + '_MSELoss_bSize'+\n",
        "                               str(args.batch_size) + '_epoch'+\n",
        "                               str(args.epochs) + '_'+train_data_prefix+'_'+\n",
        "                               train_data_surfix_BE_method)\n",
        "\n",
        "\n",
        "#============================== End of Setting ================================"
      ],
      "execution_count": null,
      "outputs": []
    },
    {
      "cell_type": "code",
      "metadata": {
        "colab": {
          "base_uri": "https://localhost:8080/"
        },
        "id": "HlqlNJYeteSA",
        "outputId": "7bc13ec9-b667-4173-8b6d-d2acc1d6a58d"
      },
      "source": [
        "\n",
        "import logging\n",
        "logging.getLogger('googleapiclient.discovery_cache').setLevel(logging.ERROR)\n",
        "\n",
        "file_list = drive.ListFile({'q': \"'1aUlG3KemS6u9qKI3nT-4XEmWFNVQR3i_' in parents and trashed=false\"}).GetList()\n",
        "for file1 in file_list:\n",
        "  print('title: %s, id: %s' % (file1['title'], file1['id']))\n",
        "\n",
        "data_downloaded = drive.CreateFile({'id': '1BxK876BrT1aT2xVUaHafwiqBNxYw5bBn'})\n",
        "data_downloaded.GetContentFile('phyla_all_noNC_noCS_4050x1177_PMI_threshold_0_clr_plsda_85p.csv')"
      ],
      "execution_count": null,
      "outputs": [
        {
          "output_type": "stream",
          "text": [
            "title: MLP_training.ipynb, id: 1ZRZq0htufNRxJz8EEcrkcZYu8wvWi6EB\n",
            "title: data, id: 1-59EAqGGegW1WhPFgus9El9XyiDes6DM\n",
            "title: phyla_all_noNC_noCS_4050x1177_PMI_threshold_0_clr_plsda_85p.csv, id: 1BxK876BrT1aT2xVUaHafwiqBNxYw5bBn\n",
            "title: remote_SSH, id: 1d3_MsesxaLvZJg_v8L_3vdXTtllD2dX3\n",
            "title: preprocessing_Dev, id: 1qo_mUWL0bWJh7Xq8zg5w4vH7skGeL8Mu\n",
            "title: csvData, id: 1jFPVCcbL3ln7w1U-GUU4TWi9aCq2UMot\n",
            "title: AI_in_Genomics_Assignments, id: 12vJGH4NHRDLyb7BYazjHJadCliupBVmq\n",
            "title: phylaMLP.ipynb, id: 1WLwiwSJgUMW7C0DjLtxRSvoniSbbZ13t\n",
            "title: NN_Classifier_LoadAndTest.ipynb, id: 1PFB2F2jPkZoQZgYyBdxuSzKiRGfHUrvK\n",
            "title: phyla_data_PCA_UMAP.ipynb, id: 1OchVuECizQB7q0F3ZYRcmYlL-Ovka2UM\n",
            "title: phyla_all_4514x1177_PMI_threshold_0_clr_plsda_85p.csv, id: 1ezFV1Yrb6mGCE965I3R_3_VYdjDMH28L\n",
            "title: phyla_biopsy_noCS_1252x1177_PMI_threshold_0_clr_plsda_85p.csv, id: 12nuz96KhOZqCOe8cjC-68_gxwdOY80ib\n",
            "title: phyla_biopsy_1273x1177_PMI_threshold_0_clr_plsda_85p.csv, id: 18pJf8SuGlUmgMp5ii2hHPpSG2VCDtNQS\n",
            "title: phyla_stool_3240x1177_PMI_threshold_0_clr_plsda_85p.csv, id: 1Hngs8sdNYzVT_8bu7mHq_l7GsrUsMZis\n",
            "title: phyla_stool_noNC_2798x1177_PMI_threshold_0_clr_plsda_85p.csv, id: 1QT5g5oF-yqRmWgn2Z9vykYM8b8EZvt55\n",
            "title: phyla_stool_noNC_3265x1177_PMI_threshold_0_clr_plsda.csv, id: 1PKfpuB44MZleSoz9gB_yGOa7eW5xqpw1\n",
            "title: phyla_data_preprocessing_PMI_CLR_limma.ipynb, id: 1EccSO8cMMzkqoSXldeC1mQIdZDIhz043\n",
            "title: NormAE, id: 1QIZoDaozA7iJYvxVen6fJJ-r1IXO-yWl\n",
            "title: CodeFile, id: 1QVK6_SByVZMrnVcQGx-L0p2IamMOv550\n"
          ],
          "name": "stdout"
        }
      ]
    },
    {
      "cell_type": "code",
      "metadata": {
        "id": "boO3FoJtjOcs"
      },
      "source": [
        "\n",
        "# sets device for model and PyTorch url)tensors\n",
        "os.environ[\"CUDA_VISIBLE_DEVICES\"]=\"0\"\n",
        "device = torch.device(\"cuda\" if torch.cuda.is_available() else \"cpu\")\n",
        "\n",
        "\n",
        "class PhylaDataset(Dataset):\n",
        "    \"\"\" Phyla dataset\"\"\"\n",
        "    \"\"\"\n",
        "    Dataset for binary classification IBD/Healthy\n",
        "    \"\"\"\n",
        "    # Initialize your data, download, etc.\n",
        "    def __init__(self, inputFile):\n",
        "        ori_data = pd.read_csv(inputFile, low_memory=False, lineterminator='\\n')\n",
        "        phyla_input = ori_data[ori_data.columns[1:args.feature_Num+1]]\n",
        "        phyla_input = phyla_input.assign(diagnosis=ori_data[ori_data.columns[args.feature_Num+2]])\n",
        "        phyla_input = phyla_input.to_numpy(dtype=np.float32)\n",
        "        self.len = phyla_input.shape[0]\n",
        "        self.count_data = from_numpy(phyla_input[:, 0:-1])\n",
        "        self.diagnosis_data = from_numpy(phyla_input[:, [-1]]) # 0: Control, 1: IBD\n",
        "\n",
        "    def __getitem__(self, index):\n",
        "        samples = self.count_data[index]\n",
        "        labels = self.diagnosis_data[index]\n",
        "        return samples, labels\n",
        "\n",
        "    def __len__(self):\n",
        "        return self.len\n",
        "    \n",
        "\n",
        "\n",
        "\"\"\"\n",
        "Preparing data for training and validaing\n",
        "\"\"\"\n",
        "\n",
        "dataset = PhylaDataset(train_base_file) \n",
        "num_cohorts, num_genus = dataset.count_data.shape\n",
        "\n"
      ],
      "execution_count": null,
      "outputs": []
    },
    {
      "cell_type": "code",
      "metadata": {
        "id": "INds_WZ-dpRZ"
      },
      "source": [
        "\n",
        "\"\"\"\n",
        "We now need to split our dataset into two parts.\n",
        "The **train set** will be used to train our model, and the **test set** will be used for evaluation.\n",
        "First, let us compute the number of samples to put in each split. \n",
        "Here we choose to keep 80\\% of the samples for training and 20\\% for testing\n",
        "\"\"\"\n",
        "\n",
        "# starting time\n",
        "start = time.time()\n",
        "\n",
        "train_set_size = int(len(dataset) * 0.8)\n",
        "validate_set_size = len(dataset) - train_set_size\n",
        "\n",
        "\"\"\"Split randomly our dataset into two parts\"\"\"\n",
        "\n",
        "train_dataset, validate_dataset = torch.utils.data.random_split(dataset, \n",
        "                                                            lengths=[train_set_size, validate_set_size], \n",
        "                                                            generator=torch.Generator().manual_seed(0))\n",
        "\n",
        "\"\"\"\n",
        "We initialize dataloader objects. \n",
        "These dataloaders will provide data one batch at a time, \n",
        "which is convenient to train our machine learning model.\n",
        "\"\"\"\n",
        "\n",
        "train_loader = DataLoader(train_dataset, \n",
        "                                           batch_size = args.batch_size, \n",
        "                                           shuffle=True)\n",
        "validate_loader = DataLoader(validate_dataset, \n",
        "                                          batch_size = args.batch_size, \n",
        "                                          shuffle=True)\n",
        "\n",
        "class MLP(nn.Module):\n",
        "    \"\"\" Multi-Layer Perceptron for classifying IBD and Healthy microbiome data\"\"\"\n",
        "    def __init__(self, input_dim=1177, hidden_dim=256, \n",
        "                 hidden_layer_num=1, \n",
        "                 pre_output_dim = 64, \n",
        "                 output_dim=1):        \n",
        "        super(MLP, self).__init__()        \n",
        "        self.layers = nn.ModuleList()\n",
        "        self.layers.append(nn.Linear(input_dim, hidden_dim))\n",
        "        for layer in range(hidden_layer_num):\n",
        "            self.layers.append(nn.Linear(hidden_dim, hidden_dim))\n",
        "        self.layers.append(nn.Linear(hidden_dim, pre_output_dim))\n",
        "        self.layers.append(nn.Linear(pre_output_dim, output_dim))\n",
        "    def forward(self, x):\n",
        "        for layer in self.layers[:-1]:\n",
        "            x = torch.tanh(layer(x))\n",
        "        out = self.layers[-1](x)\n",
        "        out = torch.sigmoid(out)\n",
        "        return out\n",
        "\n",
        "def training(model, loader, optimizer, criterion, device):\n",
        "    running_loss = 0.0\n",
        "    for i, data in enumerate(loader,0):\n",
        "      # get the inputs; data is a list of [samples, labels]\n",
        "      samples, labels = data\n",
        "      \n",
        "      # into the defined NN model in that device.\n",
        "      samples = samples.to(device)\n",
        "      labels = labels.to(device)\n",
        "      \n",
        "      # zero the parameter gradients\n",
        "      optimizer.zero_grad()\n",
        "\n",
        "      # forward + backward + optimize\n",
        "      outputs = model(samples)\n",
        "      loss = criterion(outputs, labels)\n",
        "      loss.to(device)\n",
        "      loss.backward()\n",
        "      optimizer.step()  # Update the parameters of the model\n",
        "          \n",
        "      running_loss += loss.item()         \n",
        "      return running_loss/len(loader)\n",
        "       \n",
        "    print('Finished Training')\n",
        "\n",
        "\n",
        "def validating(model, data_loader, criterion, device):\n",
        "\n",
        "  with torch.no_grad():\n",
        "    pass_loss = 0.0\n",
        "    for samples, labels in data_loader:\n",
        "        samples = samples.to(device)\n",
        "        labels = labels.to(device)\n",
        "        outputs = model(samples)\n",
        "        loss = criterion(outputs, labels)\n",
        "        pass_loss += loss.item()\n",
        "    \n",
        "    return pass_loss/len(data_loader)\n",
        "\n",
        "\n",
        "def run_training_process(model, nb_epochs, train_loader, validate_loader, optimizer, scheduler, criterion, fileNameForModel, device ):\n",
        "  #Subjecting the define NN model to the device which can be CPU or GPU\n",
        "  model = model.to(device)\n",
        "  progress_bar = tqdm(range(nb_epochs), position=0, leave=True)\n",
        "  loss_history = []\n",
        "  for epoch in progress_bar:\n",
        "      train_loss = training(model, train_loader, optimizer, criterion, device)\n",
        "      test_loss = validating(model, validate_loader, criterion, device)\n",
        "      loss_history.append(\n",
        "          {\"loss\": train_loss, \"set\": \"train\", \"epochs\": epoch}\n",
        "      )\n",
        "      loss_history.append(\n",
        "          {\"loss\": test_loss, \"set\": \"validate\", \"epochs\": epoch}\n",
        "      )\n",
        "      # save models during each training iteration\n",
        "      checkpoint = {'model' : model.state_dict(), 'optimizer': optimizer.state_dict()}\n",
        "      fileNameToSave = fileNameForModel + \".pt\"\n",
        "      if epoch % args.adapt_lr_iters == 0 :\n",
        "          save_model(checkpoint,fileNameToSave)\n",
        "          # Using scheduler to update the learning rate every 100 iterations.\n",
        "          scheduler.step()\n",
        "  return pd.DataFrame(loss_history)\n",
        "\n",
        "\n",
        "def save_model(model_state, fileName):\n",
        "    #print(\"=> Saving model\")\n",
        "    torch.save(model_state,fileName)\n",
        "\n",
        "\"\"\" \n",
        "Define the evaluation metric:\n",
        "\n",
        "We will use several evaluation metrics.\n",
        "Accuracy = (TP+TN) / (TP+TN+FP+FN)\n",
        "Specificity = TN / (TN+FP)\n",
        "Recall (Sensitivity) = (TP) / (TP+FN)\n",
        "Precision = TP / (TP+FP)\n",
        "F1-score = (2*Precision*Recall) / (Precision+Recall)\n",
        "MCC = (TP*TN - FP*FN) / sqrt((TP+FN)*(TP+FP)*(TN+FN)*(TN+FP))\n",
        "\"\"\"\n",
        "\n",
        "def compute_accuracy(loader, net):\n",
        "    \n",
        "    net = net.to(device)\n",
        "    accuracy_compute_history = []\n",
        "    TP = 0\n",
        "    TN = 0\n",
        "    FP = 0\n",
        "    FN = 0\n",
        "    with torch.no_grad():      \n",
        "        for data in loader:\n",
        "            samples, labels = data\n",
        "            samples = samples.to(device)\n",
        "            labels = labels.to(device)\n",
        "            outputs = net(samples)           \n",
        "            for i in range(labels.shape[0]):\n",
        "                sample_val = labels[i,0]\n",
        "                predict_val= outputs[i,0]\n",
        "                if sample_val == 1:\n",
        "                    if predict_val>0.5:\n",
        "                        TP = TP + 1\n",
        "                    else:\n",
        "                        FN = FN + 1\n",
        "                elif sample_val == 0:\n",
        "                    if predict_val <= 0.5:\n",
        "                        TN = TN + 1\n",
        "                    else:\n",
        "                        FP = FP + 1\n",
        "    if (TP+FN) != 0:\n",
        "        recall = TP/(TP+FN) # sensitivity\n",
        "    if (TN+FP) != 0:\n",
        "        specificity = TN/(TN+FP)\n",
        "    if (TP+FP) != 0:\n",
        "        precision = TP/(TP+FP)\n",
        "    if (TP+TN+FP+FN) != 0:    \n",
        "        accuracy = 100*(TP+TN)/(TP+TN+FP+FN)\n",
        "    if (precision+recall) != 0:\n",
        "        f1 = (2*precision*recall)/(precision+recall)\n",
        "    mcc = (TP*TN-FP*FN)/np.sqrt((TP+FP)*(TP+FN)*(TN+FP)*(TN+FN))  # Matthews correlation coefficient\n",
        "    accuracy_compute_history.append(\n",
        "        {\"TP\": TP, \"TN\": TN, \"FP\":FP, \"FN\": FN,\n",
        "         \"Recall\":recall, \"Specificity\":specificity,\n",
        "         \"Precision\":precision, \"Accuracy\":accuracy,\n",
        "         \"F1-score\":f1, \"MCC\":mcc}\n",
        "    )\n",
        "    return accuracy_compute_history\n",
        "\n",
        "def writeResult(fileName, dataObj, modelName, testingFileName):\n",
        "    with open(fileName, 'w') as f:\n",
        "        theFirstLine = 'Model file: '+modelName+'\\n'\n",
        "        f.write(theFirstLine)\n",
        "        theSecondLine = 'Test file: '+testingFileName+'\\n'\n",
        "        f.write(theSecondLine)\n",
        "        for item in dataObj[0]:\n",
        "            strToWrite = \"{0}: {1}\\n\".format(item, np.round(dataObj[0][item], decimals=2))\n",
        "            f.write(strToWrite)\n",
        "\n"
      ],
      "execution_count": null,
      "outputs": []
    },
    {
      "cell_type": "code",
      "metadata": {
        "colab": {
          "base_uri": "https://localhost:8080/"
        },
        "id": "qSDplLPzd--y",
        "outputId": "8acd5815-ea43-4612-ecf4-6bb011ece311"
      },
      "source": [
        "\"\"\"\n",
        "Start to train the MLP model\n",
        "\"\"\"\n",
        "# Initilize model, criterion, optimizer. Then train the model\n",
        "classifierMLP = MLP(args.feature_Num, args.hidden_dim, \n",
        "                         args.mlp_hidden_layers_num, \n",
        "                         args.pre_output_layer_dim, args.output_dim)\n",
        "\n",
        "# cost function (for predicting labels)\n",
        "#criterion = torch.nn.CrossEntropyLoss()\n",
        "#criterion = nn.BCELoss()\n",
        "#criterion = nn.BCEWithLogitsLoss()\n",
        "criterion = nn.MSELoss(reduction='sum')\n",
        "\n",
        "# setup optimizer\n",
        "optimizer_mlp = optim.Adam(list(classifierMLP.parameters()), lr=args.learning_rate, betas=(args.beta1, 0.999))\n",
        "# use an exponentially decaying learning rate\n",
        "scheduler_mlp= optim.lr_scheduler.ExponentialLR(optimizer_mlp, gamma=0.99)\n",
        "\n",
        "modelNameToSave = modelFilePath + fileNameToSave_base\n",
        "training_history = run_training_process(classifierMLP, args.epochs, train_loader, validate_loader, optimizer_mlp, scheduler_mlp, criterion, modelNameToSave, device=device )\n",
        "\n",
        "\n"
      ],
      "execution_count": null,
      "outputs": [
        {
          "output_type": "stream",
          "text": [
            "100%|██████████| 5000/5000 [03:44<00:00, 22.28it/s]\n"
          ],
          "name": "stderr"
        }
      ]
    },
    {
      "cell_type": "code",
      "metadata": {
        "colab": {
          "base_uri": "https://localhost:8080/",
          "height": 320
        },
        "id": "gzaz55wLzOkq",
        "outputId": "978d80b1-eb01-4d8c-cb0a-e3d083d9e549"
      },
      "source": [
        "train_dataset_metric = compute_accuracy(train_loader, classifierMLP)\n",
        "train_dataset_metric_nameToSave = resultFilePath + fileNameToSave_base + \"_train_result_metric.txt\"\n",
        "validation_dataset_metric = compute_accuracy(validate_loader, classifierMLP)\n",
        "validation_dataset_metric_nameToSave = resultFilePath + fileNameToSave_base + \"_validation_result_metric.txt\"\n",
        "\n",
        "writeResult(train_dataset_metric_nameToSave, train_dataset_metric, fileNameToSave_base, train_base_file)\n",
        "validationFileName = train_base_file[0:len(train_base_file)-4]+\"_validation\"\n",
        "writeResult(validation_dataset_metric_nameToSave, validation_dataset_metric, fileNameToSave_base, validationFileName)\n",
        "        \n",
        "print('Accuracy of the MLP on the ' + str(len(train_dataset)) + ' train samples: %d %%' % train_dataset_metric[0][\"Accuracy\"])\n",
        "\n",
        "print('Accuracy of the MLP on the ' + str(len(validate_dataset)) + ' validation samples: %d %%' % validation_dataset_metric[0][\"Accuracy\"])\n",
        "\n",
        "training_history.head()\n",
        "\n",
        "\n",
        "plt.figure()\n",
        "ax = sns.lineplot(x=\"epochs\", y=\"loss\", hue= \"set\", data=training_history)\n",
        "fig_trainHistory = ax.get_figure()\n",
        "training_history_plotName = resultFilePath + fileNameToSave_base +'_training_history.png'\n",
        "fig_trainHistory.savefig(training_history_plotName)\n"
      ],
      "execution_count": null,
      "outputs": [
        {
          "output_type": "stream",
          "text": [
            "Accuracy of the MLP on the 3240 train samples: 98 %\n",
            "Accuracy of the MLP on the 810 validation samples: 89 %\n"
          ],
          "name": "stdout"
        },
        {
          "output_type": "display_data",
          "data": {
            "image/png": "[encoded data removed]",
            "text/plain": [
              "<Figure size 432x288 with 1 Axes>"
            ]
          },
          "metadata": {
            "tags": []
          }
        }
      ]
    }
  ]
}